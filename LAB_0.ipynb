{
  "nbformat": 4,
  "nbformat_minor": 0,
  "metadata": {
    "colab": {
      "provenance": [],
      "toc_visible": true
    },
    "kernelspec": {
      "name": "python3",
      "display_name": "Python 3"
    },
    "language_info": {
      "name": "python"
    }
  },
  "cells": [
    {
      "cell_type": "markdown",
      "source": [
        "Assignment 1   \n",
        "Name:[Sagar timalsina]\n",
        "Class:[CPSMA-3933-01]  \n",
        "Instructor: [Nicholas Jacob]  \n",
        "Date: 1st September 2025  \n"
      ],
      "metadata": {
        "id": "HaUf4AtA2Va_"
      }
    },
    {
      "cell_type": "markdown",
      "source": [],
      "metadata": {
        "id": "2NQfU8C4VAWV"
      }
    },
    {
      "cell_type": "code",
      "source": [
        "print(\"hello friends\")"
      ],
      "metadata": {
        "colab": {
          "base_uri": "https://localhost:8080/"
        },
        "id": "TJzuvYFeVBr2",
        "outputId": "3a4d1502-9fd4-4a1c-d0ab-f7c93abc2bda"
      },
      "execution_count": 4,
      "outputs": [
        {
          "output_type": "stream",
          "name": "stdout",
          "text": [
            "hello friends\n"
          ]
        }
      ]
    },
    {
      "cell_type": "markdown",
      "source": [
        "MY favorite function is Fibonacci\n",
        "\n",
        "Where two number is always fixed 0 and 1 Fibonacci series where it review a sequence derived from a larger sequence by selecting elements without ##changing their original order.\n",
        "formula\n",
        "\n",
        "F(n) = F(n-1) + F(n-2)\n",
        "\n",
        "for example  (5)\n",
        "\n",
        "F(n-1) + F(n-2)\n",
        "\n",
        "F(0)= 0\n",
        "\n",
        "F(1)= 1\n",
        "\n",
        "F(2)=F(1)+F(0)=1+0=1\n",
        "\n",
        "F(3)=F(2)+F(1)=1+1=2\n",
        "\n",
        "F(4)=F(3)+F(2)=2+1=3\n",
        "\n",
        "F(5)=F(4)+F(3)=3+2=5"
      ],
      "metadata": {
        "id": "XehO4UnnVOBk"
      }
    },
    {
      "cell_type": "code",
      "source": [
        "def fibonacci(n):\n",
        "\n",
        "    if n <= 0:\n",
        "        return 0\n",
        "    elif n == 1:\n",
        "        return 1\n",
        "    else:\n",
        "        return fibonacci(n-1) + fibonacci(n-2)\n",
        "\n",
        "print(\"Fibonacci(5):\", fibonacci(5))   # Output: 5\n",
        "print(\"Fibonacci(10):\", fibonacci(10)) # Output: 55\n",
        "print(\"Fibonacci(15):\", fibonacci(15)) # Output: 610"
      ],
      "metadata": {
        "colab": {
          "base_uri": "https://localhost:8080/"
        },
        "id": "GkkvkV-HVJ7Z",
        "outputId": "fbee8c11-b5b8-477c-a869-1f661117e39b"
      },
      "execution_count": 5,
      "outputs": [
        {
          "output_type": "stream",
          "name": "stdout",
          "text": [
            "Fibonacci(5): 5\n",
            "Fibonacci(10): 55\n",
            "Fibonacci(15): 610\n"
          ]
        }
      ]
    },
    {
      "cell_type": "markdown",
      "source": [],
      "metadata": {
        "id": "s8zbazmsWBLj"
      }
    },
    {
      "cell_type": "markdown",
      "source": [
        "Creating a list"
      ],
      "metadata": {
        "id": "d7DwN74pWHaj"
      }
    },
    {
      "cell_type": "code",
      "source": [
        "# Creating a simple list of numbers\n",
        "\n",
        "print(\"create a simplelist/n\")\n",
        "\n",
        "# I'm making a list  from 1 to 10\n",
        "# Then adding a few more  numbers  15, 22, and 25\n",
        "my_list = [1, 2, 3, 4, 5, 6, 7, 8, 9, 10, 15, 22, 25]\n",
        "\n",
        "print(f\"The list: {my_list}\")\n",
        "print(f\"Number of elements: {len(my_list)}\\n\")\n",
        "\n",
        "# Computing the required values\n",
        "list_sum = sum(my_list)\n",
        "list_min = min(my_list)\n",
        "list_max = max(my_list)\n",
        "\n",
        "# For the \"one other value\", let's find the average (mean)\n",
        "average = list_sum / len(my_list)\n",
        "\n",
        "print(\"Results:\")\n",
        "print(f\"Sum: {list_sum}\")\n",
        "print(f\"Min: {list_min}\")\n",
        "print(f\"Max: {list_max}\")\n",
        "print(f\"Average: {average:.1f}\")"
      ],
      "metadata": {
        "colab": {
          "base_uri": "https://localhost:8080/"
        },
        "id": "LQRF438QWIhE",
        "outputId": "8b97d228-d8b3-4fd1-af24-ab5d74dcc379"
      },
      "execution_count": 6,
      "outputs": [
        {
          "output_type": "stream",
          "name": "stdout",
          "text": [
            "create a simplelist/n\n",
            "The list: [1, 2, 3, 4, 5, 6, 7, 8, 9, 10, 15, 22, 25]\n",
            "Number of elements: 13\n",
            "\n",
            "Results:\n",
            "Sum: 117\n",
            "Min: 1\n",
            "Max: 25\n",
            "Average: 9.0\n"
          ]
        }
      ]
    }
  ]
}