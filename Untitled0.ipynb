{
  "nbformat": 4,
  "nbformat_minor": 0,
  "metadata": {
    "colab": {
      "provenance": []
    },
    "kernelspec": {
      "name": "python3",
      "display_name": "Python 3"
    },
    "language_info": {
      "name": "python"
    }
  },
  "cells": [
    {
      "cell_type": "markdown",
      "source": [
        "#Assignment 2\n",
        "#Name:[Sagartimalsina]                                                    Class:[CPSMA-3933-01]\n",
        "#Instructor: [Nicholas Jacob]\n",
        "#Date: 11st September 2025\n",
        "\n",
        "\n",
        "\n",
        "\n",
        "\n"
      ],
      "metadata": {
        "id": "3x_bxeU_xBYV"
      }
    },
    {
      "cell_type": "markdown",
      "source": [
        "\n",
        "# PART 1: U.S. TAX CALCULATOR"
      ],
      "metadata": {
        "id": "iGLg6StQ_-PH"
      }
    },
    {
      "cell_type": "code",
      "source": [
        "def calculate_tax(income):\n",
        "\n",
        "    if income <= 11000:\n",
        "        return income * 0.10\n",
        "    elif income <= 44725:\n",
        "        return 1100 + (income - 11000) * 0.12\n",
        "    elif income <= 95375:\n",
        "        return 5147 + (income - 44725) * 0.22\n",
        "    elif income <= 182100:\n",
        "        return 16290 + (income - 95375) * 0.24\n",
        "    elif income <= 231250:\n",
        "        return 37104 + (income - 182100) * 0.32\n",
        "    elif income <= 578125:\n",
        "        return 52832 + (income - 231250) * 0.35\n",
        "    else:\n",
        "        return 174238.25 + (income - 578125) * 0.37\n",
        "\n",
        "\n",
        "# Test with $50,000\n",
        "print(f\"Tax on $50,000: ${calculate_tax(50000):.2f}\")\n",
        "\n",
        "# More tests:\n",
        "test_cases = [20000, 500000, 8000, 15000, 2500, 600]\n",
        "for income in test_cases:\n",
        "    print(f\"Income: ${income:>7,} → Tax: ${calculate_tax(income):>10,.2f}\")"
      ],
      "metadata": {
        "colab": {
          "base_uri": "https://localhost:8080/"
        },
        "id": "X_IMIr4uxHXI",
        "outputId": "9bc300c7-b259-43f3-d1ce-dbf15a4b4890"
      },
      "execution_count": 17,
      "outputs": [
        {
          "output_type": "stream",
          "name": "stdout",
          "text": [
            "Tax on $50,000: $6307.50\n",
            "Income: $ 20,000 → Tax: $  2,180.00\n",
            "Income: $500,000 → Tax: $146,894.50\n",
            "Income: $  8,000 → Tax: $    800.00\n",
            "Income: $ 15,000 → Tax: $  1,580.00\n",
            "Income: $  2,500 → Tax: $    250.00\n",
            "Income: $    600 → Tax: $     60.00\n"
          ]
        }
      ]
    },
    {
      "cell_type": "markdown",
      "source": [
        "##  PART 2: DERIVATIVE OF f(x) = x² at x=1"
      ],
      "metadata": {
        "id": "xI_5xynOFqaI"
      }
    },
    {
      "cell_type": "code",
      "source": [
        "print(\"\\n PART 2: DERIVATIVE APPROXIMATION OF f(x) = x AT x=1 \")\n",
        "print(\"Goal: Showing that as h → 0, [f(1+h) - f(1)] / h → 1\")\n",
        "\n",
        "def f(x):\n",
        "    return x  # This function has derivative = 1 everywhere\n",
        "\n",
        "h_values = [1, 0.1, 0.01, 0.001, 0.0001, 0.00001, 1e-7]\n",
        "\n",
        "print(\"Testing: (f(1+h) - f(1)) / h as h gets smaller...\")\n",
        "for h in h_values:\n",
        "    approx = (f(1 + h) - f(1)) / h\n",
        "    print(f\"h = {h:>10} → result = {approx}\")\n",
        "\n",
        "#  Challenge: Using sympy (optional)\n",
        "try:\n",
        "    import sympy as sp\n",
        "    print(\"\\n[Challenge] Using sympy to compute limit and derivative:\")\n",
        "    x, h = sp.symbols('x h')\n",
        "    f_sym = x\n",
        "    diff_quotient = (f_sym.subs(x, 1+h) - f_sym.subs(x, 1)) / h\n",
        "    limit_result = sp.limit(diff_quotient, h, 0)\n",
        "    derivative = sp.diff(f_sym, x).subs(x, 1)\n",
        "    print(f\"Limit as h→0: {limit_result}\")\n",
        "    print(f\"Derivative at x=1: {derivative}\")\n",
        "except ImportError:\n",
        "    print(\"\\n[Challenge] Sympy not installed. Install via: pip install sympy\")"
      ],
      "metadata": {
        "colab": {
          "base_uri": "https://localhost:8080/"
        },
        "id": "3JMLNOMbFyQg",
        "outputId": "c9f2fd7f-3580-4577-81c2-7c2f01810d74"
      },
      "execution_count": 24,
      "outputs": [
        {
          "output_type": "stream",
          "name": "stdout",
          "text": [
            "\n",
            " PART 2: DERIVATIVE APPROXIMATION OF f(x) = x AT x=1 \n",
            "Goal: Showing that as h → 0, [f(1+h) - f(1)] / h → 1\n",
            "Testing: (f(1+h) - f(1)) / h as h gets smaller...\n",
            "h =          1 → result = 1.0\n",
            "h =        0.1 → result = 1.0000000000000009\n",
            "h =       0.01 → result = 1.0000000000000009\n",
            "h =      0.001 → result = 0.9999999999998899\n",
            "h =     0.0001 → result = 0.9999999999998899\n",
            "h =      1e-05 → result = 1.0000000000065512\n",
            "h =      1e-07 → result = 1.0000000005838672\n",
            "\n",
            "[Challenge] Using sympy to compute limit and derivative:\n",
            "Limit as h→0: 1\n",
            "Derivative at x=1: 1\n"
          ]
        }
      ]
    },
    {
      "cell_type": "markdown",
      "source": [
        "# PART 3: SUMMATION FORMULA\n",
        "# 1 + 2 + ... + n = n*(n+1)/2"
      ],
      "metadata": {
        "id": "gU-kTOh-Gx65"
      }
    },
    {
      "cell_type": "code",
      "source": [
        "print(\"\\nPART 3: SUMMATION FORMULA CHECK \")\n",
        "\n",
        "test_n = [1, 2, 3, 5, 10, 100]\n",
        "\n",
        "for n in test_n:\n",
        "    actual_sum = sum(range(1, n+1))        # Adding 1+2+3+...+n\n",
        "    formula = n * (n + 1) // 2             # Using a formula\n",
        "    match = \"True\" if actual_sum == formula else \"False\"\n",
        "    print(f\"n={n:>3} → Sum = {actual_sum:>6}, Formula = {formula:>6} {match}\")\n",
        "\n",
        "#  Check all from 1 to 100\n",
        "print(\"\\n Check all E: If it true for n=1 to 100?\")\n",
        "\n",
        "all_correct = True\n",
        "for n in range(1, 101):\n",
        "    if sum(range(1, n+1)) != n * (n + 1) // 2:\n",
        "        all_correct = False\n",
        "        break\n",
        "\n",
        "print(\"YES! All correct from 1 to 100.\" if all_correct else \"False  an error.\")"
      ],
      "metadata": {
        "colab": {
          "base_uri": "https://localhost:8080/"
        },
        "id": "KgRlfvSkG09I",
        "outputId": "9512a5ef-958f-47da-b70a-6cbccae67395"
      },
      "execution_count": 22,
      "outputs": [
        {
          "output_type": "stream",
          "name": "stdout",
          "text": [
            "\n",
            "PART 3: SUMMATION FORMULA CHECK \n",
            "n=  1 → Sum =      1, Formula =      1 True\n",
            "n=  2 → Sum =      3, Formula =      3 True\n",
            "n=  3 → Sum =      6, Formula =      6 True\n",
            "n=  5 → Sum =     15, Formula =     15 True\n",
            "n= 10 → Sum =     55, Formula =     55 True\n",
            "n=100 → Sum =   5050, Formula =   5050 True\n",
            "\n",
            " Check all E: If it true for n=1 to 100?\n",
            "YES! All correct from 1 to 100.\n"
          ]
        }
      ]
    }
  ]
}