{
  "nbformat": 4,
  "nbformat_minor": 0,
  "metadata": {
    "colab": {
      "provenance": []
    },
    "kernelspec": {
      "name": "python3",
      "display_name": "Python 3"
    },
    "language_info": {
      "name": "python"
    }
  },
  "cells": [
    {
      "cell_type": "markdown",
      "source": [
        "#Assignment 2\n",
        "#Name:[Sagartimalsina]                                                    Class:[CPSMA-3933-01]\n",
        "#Instructor: [Nicholas Jacob]\n",
        "#Date: 11st September 2025\n",
        "\n",
        "\n",
        "\n",
        "\n",
        "\n"
      ],
      "metadata": {
        "id": "3x_bxeU_xBYV"
      }
    },
    {
      "cell_type": "markdown",
      "source": [
        "\n",
        "# PART 1: U.S. TAX CALCULATOR"
      ],
      "metadata": {
        "id": "iGLg6StQ_-PH"
      }
    },
    {
      "cell_type": "code",
      "source": [
        "def calculate_tax(income):\n",
        "\n",
        "    if income <= 11000:\n",
        "        return income * 0.10\n",
        "    elif income <= 44725:\n",
        "        return 1100 + (income - 11000) * 0.12\n",
        "    elif income <= 95375:\n",
        "        return 5147 + (income - 44725) * 0.22\n",
        "    elif income <= 182100:\n",
        "        return 16290 + (income - 95375) * 0.24\n",
        "    elif income <= 231250:\n",
        "        return 37104 + (income - 182100) * 0.32\n",
        "    elif income <= 578125:\n",
        "        return 52832 + (income - 231250) * 0.35\n",
        "    else:\n",
        "        return 174238.25 + (income - 578125) * 0.37\n",
        "\n",
        "\n",
        "# Test with $50,000\n",
        "print(f\"Tax on $50,000: ${calculate_tax(50000):.2f}\")\n",
        "\n",
        "# More tests:\n",
        "test_cases = [20000, 500000, 8000, 15000, 2500, 600]\n",
        "for income in test_cases:\n",
        "    print(f\"Income: ${income:>7,} → Tax: ${calculate_tax(income):>10,.2f}\")"
      ],
      "metadata": {
        "colab": {
          "base_uri": "https://localhost:8080/"
        },
        "id": "X_IMIr4uxHXI",
        "outputId": "9bc300c7-b259-43f3-d1ce-dbf15a4b4890"
      },
      "execution_count": 17,
      "outputs": [
        {
          "output_type": "stream",
          "name": "stdout",
          "text": [
            "Tax on $50,000: $6307.50\n",
            "Income: $ 20,000 → Tax: $  2,180.00\n",
            "Income: $500,000 → Tax: $146,894.50\n",
            "Income: $  8,000 → Tax: $    800.00\n",
            "Income: $ 15,000 → Tax: $  1,580.00\n",
            "Income: $  2,500 → Tax: $    250.00\n",
            "Income: $    600 → Tax: $     60.00\n"
          ]
        }
      ]
    },
    {
      "cell_type": "markdown",
      "source": [
        "##  PART 2: DERIVATIVE OF f(x) = x² at x=1"
      ],
      "metadata": {
        "id": "xI_5xynOFqaI"
      }
    },
    {
      "cell_type": "code",
      "source": [
        "print(\"\\n PART 2: DERIVATIVE APPROXIMATION \")\n",
        "\n",
        "# f(x) = x²\n",
        "def f(x):\n",
        "    return x * x   # Change to \"return x\" if we want derivative = 1\n",
        "\n",
        "h_values = [1, 0.1, 0.01, 0.001, 0.0001, 0.00001]\n",
        "\n",
        "print(\"Testing: (f(1+h) - f(1)) / h as h will be smaller...\")\n",
        "for h in h_values:\n",
        "    approx = (f(1 + h) - f(1)) / h\n",
        "    print(f\"h = {h:>8}  result = {approx}\")"
      ],
      "metadata": {
        "colab": {
          "base_uri": "https://localhost:8080/"
        },
        "id": "3JMLNOMbFyQg",
        "outputId": "29a40e7d-ed60-4fae-e961-b2b3ba7bbbbd"
      },
      "execution_count": 23,
      "outputs": [
        {
          "output_type": "stream",
          "name": "stdout",
          "text": [
            "\n",
            " PART 2: DERIVATIVE APPROXIMATION \n",
            "Testing: (f(1+h) - f(1)) / h as h will be smaller...\n",
            "h =        1  result = 3.0\n",
            "h =      0.1  result = 2.100000000000002\n",
            "h =     0.01  result = 2.0100000000000007\n",
            "h =    0.001  result = 2.0009999999996975\n",
            "h =   0.0001  result = 2.000099999999172\n",
            "h =    1e-05  result = 2.00001000001393\n"
          ]
        }
      ]
    },
    {
      "cell_type": "markdown",
      "source": [
        "# PART 3: SUMMATION FORMULA\n",
        "# 1 + 2 + ... + n = n*(n+1)/2"
      ],
      "metadata": {
        "id": "gU-kTOh-Gx65"
      }
    },
    {
      "cell_type": "code",
      "source": [
        "print(\"\\nPART 3: SUMMATION FORMULA CHECK \")\n",
        "\n",
        "test_n = [1, 2, 3, 5, 10, 100]\n",
        "\n",
        "for n in test_n:\n",
        "    actual_sum = sum(range(1, n+1))        # Adding 1+2+3+...+n\n",
        "    formula = n * (n + 1) // 2             # Using a formula\n",
        "    match = \"True\" if actual_sum == formula else \"False\"\n",
        "    print(f\"n={n:>3} → Sum = {actual_sum:>6}, Formula = {formula:>6} {match}\")\n",
        "\n",
        "#  Check all from 1 to 100\n",
        "print(\"\\n Check all E: If it true for n=1 to 100?\")\n",
        "\n",
        "all_correct = True\n",
        "for n in range(1, 101):\n",
        "    if sum(range(1, n+1)) != n * (n + 1) // 2:\n",
        "        all_correct = False\n",
        "        break\n",
        "\n",
        "print(\"YES! All correct from 1 to 100.\" if all_correct else \"False  an error.\")"
      ],
      "metadata": {
        "colab": {
          "base_uri": "https://localhost:8080/"
        },
        "id": "KgRlfvSkG09I",
        "outputId": "9512a5ef-958f-47da-b70a-6cbccae67395"
      },
      "execution_count": 22,
      "outputs": [
        {
          "output_type": "stream",
          "name": "stdout",
          "text": [
            "\n",
            "PART 3: SUMMATION FORMULA CHECK \n",
            "n=  1 → Sum =      1, Formula =      1 True\n",
            "n=  2 → Sum =      3, Formula =      3 True\n",
            "n=  3 → Sum =      6, Formula =      6 True\n",
            "n=  5 → Sum =     15, Formula =     15 True\n",
            "n= 10 → Sum =     55, Formula =     55 True\n",
            "n=100 → Sum =   5050, Formula =   5050 True\n",
            "\n",
            " Check all E: If it true for n=1 to 100?\n",
            "YES! All correct from 1 to 100.\n"
          ]
        }
      ]
    }
  ]
}