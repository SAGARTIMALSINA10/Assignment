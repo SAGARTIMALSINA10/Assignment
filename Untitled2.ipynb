{
  "nbformat": 4,
  "nbformat_minor": 0,
  "metadata": {
    "colab": {
      "provenance": []
    },
    "kernelspec": {
      "name": "python3",
      "display_name": "Python 3"
    },
    "language_info": {
      "name": "python"
    }
  },
  "cells": [
    {
      "cell_type": "markdown",
      "source": [
        "#LAB 2\n",
        "#Name:[Sagar timalsina] Class:[CPSMA-3933-01]\n",
        "#Instructor: [Nicholas Jacob]\n",
        "#Date: 16st September 2025"
      ],
      "metadata": {
        "id": "hVnK6ik1sURQ"
      }
    },
    {
      "cell_type": "markdown",
      "source": [
        "#Problem 1: Zeros in 1000! end with?\n",
        "#The number of following zeros in n! we count how many times 10 is a factor in the product.\n",
        "# Since 10 = 2 × 5, and there are always more factors of 2 than 5 in a factorial, we only need to count the number of times 5 is a factor in the numbers from 1 to 1000.\n",
        "\n",
        "\n"
      ],
      "metadata": {
        "id": "9TeT5aWlhSSV"
      }
    },
    {
      "cell_type": "markdown",
      "source": [
        "#Identify what creates following zeros\n",
        "Numbers divisible by 5: 5, 10, 15, 20, 25, 30, 35, 40, 45, 50, 55, 60, 65, 70, 75, 80, 85, 90, 95, 100, ...\n",
        "Formula: ⌊1000/5⌋ = ⌊200⌋ = 200"
      ],
      "metadata": {
        "id": "23Z0Ua6ih2Si"
      }
    },
    {
      "cell_type": "markdown",
      "source": [
        "#Counting additional factors of 5\n",
        "Some numbers contribute more than one factor of 5\n",
        "\n",
        "Numbers divisible by 25 = 5²\n",
        "\n",
        "Numbers divisible by 125 = 5³\n",
        "\n",
        "Numbers divisible by 625 = 5⁴\n"
      ],
      "metadata": {
        "id": "-AtdesD2ibBG"
      }
    },
    {
      "cell_type": "markdown",
      "source": [
        "#Calculating each contribution\n",
        "\n",
        "Multiples of 5¹: ⌊1000/5⌋ = 200\n",
        "\n",
        "Multiples of 5²: ⌊1000/25⌋ = 40\n",
        "\n",
        "Multiples of 5³: ⌊1000/125⌋ = 8\n",
        "\n",
        "Multiples of 5⁴: ⌊1000/625⌋ = 1\n",
        "\n",
        "Multiples of 5⁵: ⌊1000/3125⌋ = 0 (since 3125 > 1000)"
      ],
      "metadata": {
        "id": "XNIPFHt9i7zq"
      }
    },
    {
      "cell_type": "markdown",
      "source": [
        "#Sum all factors\n",
        "\n",
        "Total factors of 5 = 200 + 40 + 8 + 1 = 249\n",
        "\n",
        "there is 249 zeros"
      ],
      "metadata": {
        "id": "3FrSzUBFjTYb"
      }
    },
    {
      "cell_type": "code",
      "source": [
        "def trailing_zeros_factorial(n: int) -> int:\n",
        "    count = 0\n",
        "    power_of_5 = 5\n",
        "    while power_of_5 <= n:\n",
        "        count += n // power_of_5\n",
        "        power_of_5 *= 5\n",
        "    return count\n",
        "\n",
        "# Example: 1000!\n",
        "print(trailing_zeros_factorial(1000))  # 249\n"
      ],
      "metadata": {
        "colab": {
          "base_uri": "https://localhost:8080/"
        },
        "id": "s9bQPwyi6qTr",
        "outputId": "65375d9c-27c1-4d46-feee-4110d7cc7c35"
      },
      "execution_count": 43,
      "outputs": [
        {
          "output_type": "stream",
          "name": "stdout",
          "text": [
            "249\n"
          ]
        }
      ]
    },
    {
      "cell_type": "markdown",
      "source": [
        "#Problem 2: (Big Numbers extended):\n",
        "\n",
        "\n",
        "#Find the sum of the digits of 100^13 - 26\n",
        "\n"
      ],
      "metadata": {
        "id": "96T5gSZwj1fA"
      }
    },
    {
      "cell_type": "code",
      "source": [
        "# Calculating the number\n",
        "number = 100**13 - 26\n",
        "\n",
        "# Converting string to get individual digits\n",
        "digits_str = str(number)\n",
        "\n",
        "# Converting each character to integer to get list of digits\n",
        "digits_list = [int(d) for d in digits_str]\n",
        "\n",
        "# Calculating sum of digits\n",
        "digit_sum = sum(digits_list)\n",
        "\n",
        "# Output results\n",
        "print(\" The number is:\")\n",
        "print(number)\n",
        "print()\n",
        "\n",
        "print(\" Digits (as a list):\")\n",
        "print(digits_list)\n",
        "print()\n",
        "\n",
        "print(\" Sum of digits:\")\n",
        "print(digit_sum)"
      ],
      "metadata": {
        "colab": {
          "base_uri": "https://localhost:8080/"
        },
        "id": "wIP2KIVkkALp",
        "outputId": "fe73e58e-99ea-4bc2-f557-7706c19e2a7f"
      },
      "execution_count": 45,
      "outputs": [
        {
          "output_type": "stream",
          "name": "stdout",
          "text": [
            " The number is:\n",
            "99999999999999999999999974\n",
            "\n",
            " Digits (as a list):\n",
            "[9, 9, 9, 9, 9, 9, 9, 9, 9, 9, 9, 9, 9, 9, 9, 9, 9, 9, 9, 9, 9, 9, 9, 9, 7, 4]\n",
            "\n",
            " Sum of digits:\n",
            "227\n"
          ]
        }
      ]
    },
    {
      "cell_type": "markdown",
      "source": [
        "#Convert to string\n",
        "\n"
      ],
      "metadata": {
        "id": "wHzvt_yekqFs"
      }
    },
    {
      "cell_type": "code",
      "source": [
        "x = '8675309'\n",
        "listofx = [int(digit) for digit in x]\n",
        "\n",
        "print(listofx)"
      ],
      "metadata": {
        "colab": {
          "base_uri": "https://localhost:8080/"
        },
        "id": "IUw2_hwUk0aY",
        "outputId": "608158b9-08db-459d-ba74-98765a50920d"
      },
      "execution_count": 41,
      "outputs": [
        {
          "output_type": "stream",
          "name": "stdout",
          "text": [
            "[8, 6, 7, 5, 3, 0, 9]\n"
          ]
        }
      ]
    },
    {
      "cell_type": "code",
      "source": [
        "digit_sum = sum(listofx)\n",
        "print(digit_sum)\n"
      ],
      "metadata": {
        "colab": {
          "base_uri": "https://localhost:8080/"
        },
        "id": "IuRe1_KanTvg",
        "outputId": "c2c38784-653b-4a78-b319-5632d6b910be"
      },
      "execution_count": 34,
      "outputs": [
        {
          "output_type": "stream",
          "name": "stdout",
          "text": [
            "38\n"
          ]
        }
      ]
    },
    {
      "cell_type": "markdown",
      "source": [
        "#Handshakes\n",
        "Given:\n",
        "\n",
        "Two teams, each with 11 players.\n",
        "\n",
        "All players from both teams shake hands with each other\n",
        "\n",
        " that’s 11 × 11 = 121 handshakes.\n",
        "\n",
        "Additionally, the winning team shakes hands among themselves.\n",
        "\n",
        "Handshakes within a team of 11: this is the number of ways to choose 2 players out of 11\n",
        "\n",
        "Total handshakes = 121 (between teams) + 55 (within winning team) = 176"
      ],
      "metadata": {
        "id": "vh3m1xzNrFb3"
      }
    },
    {
      "cell_type": "code",
      "source": [
        "import math\n",
        "\n",
        "def soccer_handshakes(team_size=11):\n",
        "    cross_team = team_size * team_size\n",
        "    within_team = math.comb(team_size, 2)  # n choose 2\n",
        "    return cross_team + within_team\n",
        "\n",
        "print(soccer_handshakes())\n"
      ],
      "metadata": {
        "colab": {
          "base_uri": "https://localhost:8080/"
        },
        "id": "tkUtZv_9tZXE",
        "outputId": "7878a009-92d5-4170-eddf-c200f45b97f5"
      },
      "execution_count": 39,
      "outputs": [
        {
          "output_type": "stream",
          "name": "stdout",
          "text": [
            "176\n"
          ]
        }
      ]
    },
    {
      "cell_type": "markdown",
      "source": [
        "#Harder Handshakes\n",
        "#Formula: Handshakes between n people = n * (n-1) / 2\n",
        "Given:\n",
        "\n",
        "Mr. Smith and his wife 1 couple.\n",
        "\n",
        "4 other couples invited total 5 couples = 10 people.\n",
        "\n",
        "No one shakes hands with their spouse or themselves.\n",
        "\n",
        "No repeated handshakes.\n",
        "\n",
        "Mr. Smith asks everyone (all 10 people) how many handshakes they did  and gets a different answer from each person.\n",
        "\n",
        "\n",
        "NOW:\n",
        "\n",
        "10 people (5 couples).\n",
        "\n",
        "Possible answers: 0 through 8.\n",
        "\n",
        "Spouses’ counts add up to 8.\n",
        "\n",
        "Mr. Smith’s answer must be the missing one (4).\n"
      ],
      "metadata": {
        "id": "qAJwR1OdsAjN"
      }
    },
    {
      "cell_type": "code",
      "source": [
        "def dinner_party_handshakes():\n",
        "    people = list(range(10))  # 0 = Mr. Smith, 1 = Mrs. Smith, 2–9 = guests\n",
        "    answers = list(range(9))  # 0–8 answered\n",
        "    # missing answer is Mr. Smith's\n",
        "    missing = set(range(9)) ^ set(answers)\n",
        "    return missing.pop() if missing else 4\n",
        "\n",
        "print(dinner_party_handshakes())\n"
      ],
      "metadata": {
        "colab": {
          "base_uri": "https://localhost:8080/"
        },
        "id": "xU_n4F92tiUB",
        "outputId": "758d0e97-395c-4a18-80fd-9f4af884bc3f"
      },
      "execution_count": 38,
      "outputs": [
        {
          "output_type": "stream",
          "name": "stdout",
          "text": [
            "4\n"
          ]
        }
      ]
    }
  ]
}